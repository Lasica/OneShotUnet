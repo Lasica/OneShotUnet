{
 "cells": [
  {
   "cell_type": "code",
   "execution_count": null,
   "metadata": {},
   "outputs": [],
   "source": [
    "import numpy as np\n",
    "import math\n",
    "import matplotlib.pyplot as plt\n",
    "import tensorflow as tf\n",
    "import cv2\n",
    "import os\n",
    "import logging\n",
    "import re\n",
    "import datetime"
   ]
  },
  {
   "cell_type": "code",
   "execution_count": null,
   "metadata": {},
   "outputs": [],
   "source": [
    "gpus = tf.config.experimental.list_physical_devices('GPU')\n",
    "if gpus:\n",
    "  try:\n",
    "    # Currently, memory growth needs to be the same across GPUs\n",
    "    for gpu in gpus:\n",
    "      tf.config.experimental.set_memory_growth(gpu, True)\n",
    "    logical_gpus = tf.config.experimental.list_logical_devices('GPU')\n",
    "    print(len(gpus), \"Physical GPUs,\", len(logical_gpus), \"Logical GPUs\")\n",
    "  except RuntimeError as e:\n",
    "    # Memory growth must be set before GPUs have been initialized\n",
    "    print(e)\n",
    "else:\n",
    "    print(\"No compatible GPUs found\")"
   ]
  },
  {
   "cell_type": "markdown",
   "metadata": {},
   "source": [
    "## Common constants"
   ]
  },
  {
   "cell_type": "code",
   "execution_count": null,
   "metadata": {},
   "outputs": [],
   "source": [
    "IMG_W = 32\n",
    "IMG_H = 32\n",
    "IMG_C = 1\n",
    "\n",
    "last_epoch = 0\n",
    "batch_size = 128\n",
    "latent_dim = 128\n",
    "SAMPLES_PATH = \"samples_AE3\"\n",
    "CHECKPOINT_PATH = \"saved_model_AE3\"\n",
    "LOG_DIR = \"/qarr/studia/magister/models/gan_logs_AE\" + datetime.datetime.now().strftime(\"%Y%m%d-%H%M%S\")"
   ]
  },
  {
   "cell_type": "code",
   "execution_count": null,
   "metadata": {},
   "outputs": [],
   "source": [
    "try:\n",
    "    checkpoints = os.listdir(CHECKPOINT_PATH)\n",
    "    last_epoch = np.max([int(re.search(r\"-[0-9]+\\.\", i)[0][1:-1]) for i in checkpoints if\n",
    "                             re.search(r\"-[0-9]+\\.\", i)])\n",
    "    print(\"Detected {} epoch as last checkpoint\".format(last_epoch))\n",
    "except (ValueError,  FileNotFoundError):\n",
    "    last_epoch = 0\n",
    "    print(\"Did not detect any checkpoints to continue from\")"
   ]
  },
  {
   "cell_type": "markdown",
   "metadata": {},
   "source": [
    "## Loading the dataset"
   ]
  },
  {
   "cell_type": "code",
   "execution_count": null,
   "metadata": {},
   "outputs": [],
   "source": [
    "learning_set = np.fromfile('fashion_mnist/train-images-idx3-ubyte', dtype='uint8')\n",
    "learning_lab = np.fromfile('fashion_mnist/train-labels-idx1-ubyte', dtype='uint8')\n",
    "test_set = np.fromfile('fashion_mnist/t10k-images-idx3-ubyte', dtype='uint8')\n",
    "test_lab = np.fromfile('fashion_mnist/t10k-labels-idx1-ubyte', dtype='uint8')"
   ]
  },
  {
   "cell_type": "code",
   "execution_count": null,
   "metadata": {},
   "outputs": [],
   "source": [
    "class_names = ['T-shirt/top', 'Trouser', 'Pullover', 'Dress', 'Coat',\n",
    "               'Sandal',      'Shirt',   'Sneaker',  'Bag',   'Ankle boot']"
   ]
  },
  {
   "cell_type": "code",
   "execution_count": null,
   "metadata": {},
   "outputs": [],
   "source": [
    "train_examples = 60000\n",
    "test_examples = 10000\n",
    "batch_size = 128\n",
    "\n",
    "resized_train = np.zeros((train_examples, 32, 32))\n",
    "for i in range(train_examples):\n",
    "    resized_train[i] = cv2.resize(np.reshape(learning_set[16+28*28*i:16+28*28*(i+1)], (28,28,1)), (32, 32))\n",
    "resized_train = np.resize(resized_train, (60000, 32, 32, 1))\n",
    "\n",
    "train_dataset = tf.data.Dataset.from_tensor_slices(resized_train)\n",
    "def normalize(images):\n",
    "  images = tf.cast(images, tf.float32)\n",
    "  images -= 128.0\n",
    "  images /= 128\n",
    "  return images\n",
    "\n",
    "train_dataset =  train_dataset.map(normalize)\n",
    "train_dataset = train_dataset.cache().repeat().shuffle(train_examples).batch(batch_size)"
   ]
  },
  {
   "cell_type": "code",
   "execution_count": null,
   "metadata": {},
   "outputs": [],
   "source": [
    "plt.imshow(train_dataset.as_numpy_iterator().next()[0], cmap=plt.cm.binary)"
   ]
  },
  {
   "cell_type": "code",
   "execution_count": null,
   "metadata": {},
   "outputs": [],
   "source": [
    "plt.hist(np.ravel(train_dataset.as_numpy_iterator().next()[0]))"
   ]
  },
  {
   "cell_type": "markdown",
   "metadata": {},
   "source": [
    "### Common helper functions and clearing session"
   ]
  },
  {
   "cell_type": "code",
   "execution_count": null,
   "metadata": {},
   "outputs": [],
   "source": [
    "from gan_arch import *\n",
    "from commons import *\n",
    "weight_init = tf.keras.initializers.RandomNormal(mean=0.0, stddev=0.02)"
   ]
  },
  {
   "cell_type": "code",
   "execution_count": null,
   "metadata": {},
   "outputs": [],
   "source": [
    "tf.keras.backend.clear_session()\n",
    "\n",
    "checkpoint_path_g = f\"{CHECKPOINT_PATH}/gencp-{{epoch:02d}}.ckpt\"\n",
    "checkpoint_path_d = f\"{CHECKPOINT_PATH}/discp-{{epoch:02d}}.ckpt\"\n",
    "checkpoint_path_e = f\"{CHECKPOINT_PATH}/encod-{{epoch:02d}}.ckpt\""
   ]
  },
  {
   "cell_type": "code",
   "execution_count": null,
   "metadata": {},
   "outputs": [],
   "source": [
    "tboard_callback = tf.keras.callbacks.TensorBoard(log_dir = LOG_DIR, histogram_freq=1)"
   ]
  },
  {
   "cell_type": "markdown",
   "metadata": {},
   "source": [
    "## Defining the model"
   ]
  },
  {
   "cell_type": "code",
   "execution_count": null,
   "metadata": {},
   "outputs": [],
   "source": [
    "d_model = build_discriminator_ref(weight_init, IMG_H=IMG_H, IMG_W=IMG_W, IMG_C=IMG_C)\n",
    "g_model = build_generator_ref(latent_dim, weight_init, IMG_H=IMG_H, IMG_W=IMG_W, IMG_C=IMG_C)\n",
    "e_model = build_encoder_ref(latent_dim, weight_init, IMG_H=IMG_H, IMG_W=IMG_W, IMG_C=IMG_C)"
   ]
  },
  {
   "cell_type": "markdown",
   "metadata": {},
   "source": [
    "### Loading the model from last checkpoint, if able"
   ]
  },
  {
   "cell_type": "code",
   "execution_count": null,
   "metadata": {
    "scrolled": true
   },
   "outputs": [],
   "source": [
    "if last_epoch:\n",
    "    d_model.load_weights(checkpoint_path_d.format(epoch=last_epoch))\n",
    "    g_model.load_weights(checkpoint_path_g.format(epoch=last_epoch))\n",
    "    e_model.load_weights(checkpoint_path_e.format(epoch=last_epoch))\n",
    "    print(f\"Loading models from epoch {last_epoch}\")\n",
    "else:\n",
    "    print(\"No checkpoint to load from\")"
   ]
  },
  {
   "cell_type": "code",
   "execution_count": null,
   "metadata": {},
   "outputs": [],
   "source": [
    "train_for = 10 # epochs to train"
   ]
  },
  {
   "cell_type": "code",
   "execution_count": null,
   "metadata": {},
   "outputs": [],
   "source": [
    "gan = GAN_autoencoder(d_model, g_model, e_model, latent_dim)\n",
    "bce_loss_fn = tf.keras.losses.BinaryCrossentropy(from_logits=True, label_smoothing=0.1)\n",
    "bce_loss_nl_fn = tf.keras.losses.BinaryCrossentropy(from_logits=False, label_smoothing=0.1)\n",
    "mse_loss = tf.keras.losses.MeanSquaredError()\n",
    "d_optimizer = tf.keras.optimizers.Adam(learning_rate=0.0002, beta_1=0.5)\n",
    "g_optimizer = tf.keras.optimizers.Adam(learning_rate=0.0002, beta_1=0.5)\n",
    "e_optimizer = tf.keras.optimizers.Adam(learning_rate=0.0002, beta_1=0.5)\n",
    "gan.compile(d_optimizer, g_optimizer, e_optimizer, bce_loss_fn, mse_loss)"
   ]
  },
  {
   "cell_type": "code",
   "execution_count": null,
   "metadata": {},
   "outputs": [],
   "source": [
    "n_samples = 25\n",
    "noise = np.random.normal(size=(n_samples, latent_dim))\n",
    "\n",
    "logging.getLogger('tensorflow').setLevel(logging.ERROR)\n",
    "try:\n",
    "    for epoch in range(last_epoch, last_epoch+train_for):\n",
    "        gan.fit(train_dataset, \n",
    "                initial_epoch=epoch, \n",
    "                epochs=epoch+1, \n",
    "                batch_size=batch_size, \n",
    "                steps_per_epoch=train_examples//batch_size,\n",
    "                callbacks=[tboard_callback]\n",
    "               )\n",
    "        g_model.save_weights(checkpoint_path_g.format(epoch=epoch+1))\n",
    "        d_model.save_weights(checkpoint_path_d.format(epoch=epoch+1))\n",
    "        e_model.save_weights(checkpoint_path_e.format(epoch=epoch+1))\n",
    "\n",
    "        n_samples = 25\n",
    "        new_noise = np.random.normal(size=(n_samples, latent_dim))\n",
    "        new_noise[0:5] = noise[0:5]\n",
    "        examples = g_model.predict(new_noise)\n",
    "        save_plot(examples, SAMPLES_PATH, epoch, int(np.sqrt(n_samples)), (IMG_W, IMG_H, IMG_C), plotName=\"generated_plot_epoch\")\n",
    "except KeyboardInterrupt:\n",
    "    print(\"Interrupted\")\n",
    "    \n",
    "last_epoch += train_for\n",
    "\n",
    "logging.getLogger('tensorflow').setLevel(logging.WARNING)"
   ]
  },
  {
   "cell_type": "markdown",
   "metadata": {},
   "source": [
    "## Testing the autoencoder"
   ]
  },
  {
   "cell_type": "code",
   "execution_count": null,
   "metadata": {},
   "outputs": [],
   "source": [
    "n_samples = 25\n",
    "new_noise = np.random.normal(size=(n_samples, latent_dim))\n",
    "examples = g_model.predict(new_noise)\n",
    "canvas = save_plot(examples, SAMPLES_PATH, 0, int(np.sqrt(n_samples)), (IMG_W, IMG_H, IMG_C))"
   ]
  },
  {
   "cell_type": "code",
   "execution_count": null,
   "metadata": {},
   "outputs": [],
   "source": [
    "examples2 = list(train_dataset.take(1).as_numpy_iterator())[0]"
   ]
  },
  {
   "cell_type": "code",
   "execution_count": null,
   "metadata": {},
   "outputs": [],
   "source": [
    "canvas2 = save_plot(examples2, SAMPLES_PATH, 0, int(np.sqrt(n_samples)), (IMG_W, IMG_H, IMG_C))"
   ]
  },
  {
   "cell_type": "code",
   "execution_count": null,
   "metadata": {},
   "outputs": [],
   "source": [
    "examples_noise = e_model.predict(examples)\n",
    "examples_real_noise = e_model.predict(examples2)\n",
    "auto_examples = g_model.predict(examples_noise)\n",
    "auto_examples2 = g_model.predict(examples_real_noise)"
   ]
  },
  {
   "cell_type": "code",
   "execution_count": null,
   "metadata": {},
   "outputs": [],
   "source": [
    "print(np.max(examples2), np.min(examples2))"
   ]
  },
  {
   "cell_type": "code",
   "execution_count": null,
   "metadata": {},
   "outputs": [],
   "source": [
    "canvas_auto = save_plot(auto_examples, SAMPLES_PATH, 0, int(np.sqrt(n_samples)), (IMG_W, IMG_H, IMG_C))"
   ]
  },
  {
   "cell_type": "code",
   "execution_count": null,
   "metadata": {},
   "outputs": [],
   "source": [
    "\n",
    "canvas_auto_real = save_plot(auto_examples2, SAMPLES_PATH, 0, int(np.sqrt(n_samples)), (IMG_W, IMG_H, IMG_C))"
   ]
  },
  {
   "cell_type": "code",
   "execution_count": null,
   "metadata": {
    "scrolled": false
   },
   "outputs": [],
   "source": [
    "fig, subs = plt.subplots(2,2, figsize=(14,14))\n",
    "#fig.figure(figsize=(10,10))\n",
    "subs[0][0].imshow(canvas, cmap = plt.cm.binary)\n",
    "subs[0][0].set_title(\"Generowane\")\n",
    "subs[0][1].imshow(canvas2, cmap = plt.cm.binary)\n",
    "subs[0][1].set_title(\"Rzeczywiste\")\n",
    "subs[1][0].imshow(canvas_auto, cmap = plt.cm.binary)\n",
    "subs[1][0].set_title(\"Generowane -> Autokoder -> Generator\")\n",
    "subs[1][1].imshow(canvas_auto_real, cmap = plt.cm.binary)\n",
    "subs[1][1].set_title(\"Rzeczywiste -> Autokoder -> Generator\")"
   ]
  },
  {
   "cell_type": "markdown",
   "metadata": {},
   "source": [
    " # Training the encoder only"
   ]
  },
  {
   "cell_type": "code",
   "execution_count": null,
   "metadata": {},
   "outputs": [],
   "source": [
    "# noise dataset\n",
    "@tf.function\n",
    "def noise_gen(batch_size):\n",
    "    yield tf.random.normal((batch_size, latent_dim), 0.0, 1.0)\n",
    "\n",
    "noise_dataset = tf.data.Dataset.from_generator(noise_gen,\n",
    "                                             args=[batch_size],\n",
    "                                             output_types=(tf.float32),\n",
    "                                             output_shapes=((batch_size, latent_dim))\n",
    "                                            ).prefetch(tf.data.experimental.AUTOTUNE)\n",
    "\n",
    "class AE_generator(tf.keras.models.Model):\n",
    "    def __init__(self, generator, encoder):\n",
    "        super(AE_generator, self).__init__()\n",
    "        self.generator = generator\n",
    "        self.encoder = encoder\n",
    "\n",
    "    def compile(self, optimizer, loss_fn):\n",
    "        super(AE_generator, self).compile()\n",
    "        self.optimizer = optimizer\n",
    "        self.loss_fn = loss_fn\n",
    "    \n",
    "    @tf.function\n",
    "    def train_step(self, noise_input):\n",
    "        batch_size = tf.shape(real_images)[0]\n",
    "        with tf.GradientTape() as etape:\n",
    "            gen_samples = self.generator(noise_input)\n",
    "            prediction = self.encoder(gen_samples)\n",
    "            e_loss = loss_fn(random_latent_vectors, encoding_prediction)\n",
    "        grads = etape.gradient(e_loss, self.encoder.trainable_weights)\n",
    "        self.optimizer.apply_gradients(zip(grads, self.encoder.trainable_weights))"
   ]
  },
  {
   "cell_type": "code",
   "execution_count": null,
   "metadata": {},
   "outputs": [],
   "source": []
  }
 ],
 "metadata": {
  "kernelspec": {
   "display_name": "Python 3",
   "language": "python",
   "name": "python3"
  },
  "language_info": {
   "codemirror_mode": {
    "name": "ipython",
    "version": 3
   },
   "file_extension": ".py",
   "mimetype": "text/x-python",
   "name": "python",
   "nbconvert_exporter": "python",
   "pygments_lexer": "ipython3",
   "version": "3.8.6"
  }
 },
 "nbformat": 4,
 "nbformat_minor": 4
}
