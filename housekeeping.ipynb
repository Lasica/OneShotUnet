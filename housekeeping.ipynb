{
 "cells": [
  {
   "cell_type": "code",
   "execution_count": null,
   "metadata": {},
   "outputs": [],
   "source": [
    "import tensorflow as tf\n",
    "import numpy as np\n",
    "import matplotlib.pyplot as plt\n",
    "import re\n",
    "from commons import *\n",
    "from datetime import datetime"
   ]
  },
  {
   "cell_type": "code",
   "execution_count": null,
   "metadata": {},
   "outputs": [],
   "source": [
    "raw_dataset_path = '/qarr/studia/magister/datasets/METU/query_reversed/'\n",
    "output_path = '/home/zenfur/magister/metu_siamese_inputs'\n",
    "#prepare_resized_dataset()"
   ]
  },
  {
   "cell_type": "code",
   "execution_count": null,
   "metadata": {},
   "outputs": [],
   "source": [
    "METU_RAW_PATH = '/qarr/studia/magister/datasets/METU/930k_logo_v3/'\n",
    "METU_DATASET_PATH = '/home/zenfur/magister/resized_930k_logo/'\n",
    "EVAL_ORIGIN_PATH = '/qarr/studia/magister/datasets/METU/query_reversed/'\n",
    "EVAL_DATASET_PATH = '/home/zenfur/magister/metu_eval_256sq/'\n",
    "TESTING = False\n"
   ]
  },
  {
   "cell_type": "code",
   "execution_count": null,
   "metadata": {},
   "outputs": [],
   "source": [
    "imagesList = tf.io.matching_files(METU_DATASET_PATH + \"*.jpg\")\n",
    "print(f\"Found {len(imagesList)} images in dataset\")\n",
    "\n",
    "@tf.function\n",
    "def tf_read_image(path):\n",
    "    img = tf.io.read_file(path)\n",
    "    return tf.image.decode_jpeg(img, channels=3, dct_method='INTEGER_ACCURATE')\n",
    "\n",
    "\n",
    "@tf.function\n",
    "def tf_convert_and_normalize_img(img):\n",
    "    c = tf.constant(256.0, dtype=tf.dtypes.float32)\n",
    "    img = tf.cast(img, tf.dtypes.float32)\n",
    "    #img = tf.math.subtract(img, c)\n",
    "    return tf.math.divide(img, c)\n",
    "\n",
    "\n",
    "\n",
    "pathsDB = tf.data.Dataset.from_tensor_slices(imagesList)\n",
    "lenMetu = len(pathsDB)\n",
    "SHARDS = 1\n",
    "SHARD_IDX = 0\n",
    "BATCH_SIZE = 1\n",
    "SUPER_BATCH = 32\n",
    "metuDB = ( pathsDB.shuffle(lenMetu//SHARDS + (lenMetu % SHARDS > SHARD_IDX), seed=1231231)\n",
    "                .map(tf_read_image, num_parallel_calls=tf.data.experimental.AUTOTUNE)\n",
    "                .batch(BATCH_SIZE*SUPER_BATCH)\n",
    "                .map(tf_convert_and_normalize_img, num_parallel_calls=tf.data.experimental.AUTOTUNE)\n",
    "                .prefetch(tf.data.experimental.AUTOTUNE)\n",
    "                .unbatch()\n",
    "                .batch(BATCH_SIZE)\n",
    "         )\n",
    "metuPairs = tf.data.Dataset.zip((pathsDB.shard(SHARDS, SHARD_IDX).shuffle(lenMetu//SHARDS + (lenMetu % SHARDS > SHARD_IDX), seed=1231231), metuDB))"
   ]
  },
  {
   "cell_type": "markdown",
   "metadata": {},
   "source": [
    "# Exploring the dataset manually in search of decent examples"
   ]
  },
  {
   "cell_type": "code",
   "execution_count": null,
   "metadata": {},
   "outputs": [],
   "source": [
    "saved = []\n",
    "dbIt = metuPairs.as_numpy_iterator()"
   ]
  },
  {
   "cell_type": "code",
   "execution_count": null,
   "metadata": {},
   "outputs": [],
   "source": [
    "if TESTING:\n",
    "    fig, subs = plt.subplots(4,4, figsize=(10,10))\n",
    "    names = []\n",
    "    for i in range(4):\n",
    "        for j in range(4):\n",
    "            name, img = dbIt.next()\n",
    "            names.append(name)\n",
    "            print(i, j, i*4+j, name)\n",
    "            subs[i][j].imshow(img[0])\n",
    "            subs[i][j].set_title(str(i*4+j))"
   ]
  },
  {
   "cell_type": "code",
   "execution_count": null,
   "metadata": {},
   "outputs": [],
   "source": [
    "# Saving examples one by one\n",
    "if TESTING:\n",
    "    saved.append(names[2].decode('utf-8'))\n",
    "    print(len(saved))"
   ]
  },
  {
   "cell_type": "markdown",
   "metadata": {},
   "source": [
    "# Writing or loading the saved examples list, assuming N=64"
   ]
  },
  {
   "cell_type": "code",
   "execution_count": null,
   "metadata": {},
   "outputs": [],
   "source": [
    "if False:#TESTING:\n",
    "    with open('chosen_samples.txt', \"x\") as f:\n",
    "        f.write('\\n'.join(saved))\n",
    "else:\n",
    "    saved = []\n",
    "    with open('chosen_samples.txt', \"r\") as f:\n",
    "        for line in f.readlines():\n",
    "            saved.append(line)"
   ]
  },
  {
   "cell_type": "markdown",
   "metadata": {},
   "source": [
    "### Printing the chosen logos in grid"
   ]
  },
  {
   "cell_type": "code",
   "execution_count": null,
   "metadata": {},
   "outputs": [],
   "source": [
    "if TESTING:\n",
    "    fig, subs = plt.subplots(8,8,figsize=((8*2.5, 8*2.5)))\n",
    "    for i in range(8):\n",
    "        for j in range(8):\n",
    "            img = tf.image.decode_jpeg(tf.io.read_file(saved[i*8+j].strip('\\n')))#.imread(saved[i*8+j])\n",
    "            subs[i][j].imshow(img)\n",
    "            subs[i][j].axes.set_yticks([])\n",
    "            subs[i][j].axes.set_xticks([])\n",
    "    fig.tight_layout()"
   ]
  },
  {
   "cell_type": "markdown",
   "metadata": {},
   "source": [
    "## Preparing origin filenames to resize and rename"
   ]
  },
  {
   "cell_type": "code",
   "execution_count": null,
   "metadata": {},
   "outputs": [],
   "source": [
    "if TESTING:\n",
    "    target_paths = [METU_RAW_PATH + re.sub(r\".*/\", \"\", path).strip('\\n') for path in saved]\n",
    "    target_paths_2 = list(tf.io.matching_files(EVAL_ORIGIN_PATH+\"*\").numpy())\n",
    "    target_paths_2 = [s.decode('utf-8') for s in target_paths_2]\n",
    "\n",
    "    # Prepare dummy images\n",
    "    prepare_resized_dataset(False, EVAL_DATASET_PATH, inputFilesList=target_paths, xScale=256, yScale=256, margin=2)\n",
    "    # Rename dummy images as class 0\n",
    "    for i, img_path in enumerate(target_paths):\n",
    "        os.rename(EVAL_DATASET_PATH + os.path.basename(img_path), EVAL_DATASET_PATH + f\"0-{i+1}.jpg\")\n",
    "\n",
    "    prepare_resized_dataset(None, EVAL_DATASET_PATH, inputFilesList=target_paths_2, xScale=256, yScale=256, margin=2)"
   ]
  },
  {
   "cell_type": "markdown",
   "metadata": {},
   "source": []
  },
  {
   "cell_type": "code",
   "execution_count": null,
   "metadata": {},
   "outputs": [],
   "source": []
  },
  {
   "cell_type": "code",
   "execution_count": null,
   "metadata": {},
   "outputs": [],
   "source": []
  },
  {
   "cell_type": "code",
   "execution_count": null,
   "metadata": {},
   "outputs": [],
   "source": []
  },
  {
   "cell_type": "code",
   "execution_count": null,
   "metadata": {},
   "outputs": [],
   "source": []
  },
  {
   "cell_type": "code",
   "execution_count": null,
   "metadata": {},
   "outputs": [],
   "source": []
  },
  {
   "cell_type": "code",
   "execution_count": null,
   "metadata": {},
   "outputs": [],
   "source": []
  },
  {
   "cell_type": "code",
   "execution_count": null,
   "metadata": {},
   "outputs": [],
   "source": []
  },
  {
   "cell_type": "code",
   "execution_count": null,
   "metadata": {},
   "outputs": [],
   "source": []
  },
  {
   "cell_type": "code",
   "execution_count": null,
   "metadata": {},
   "outputs": [],
   "source": []
  },
  {
   "cell_type": "code",
   "execution_count": null,
   "metadata": {},
   "outputs": [],
   "source": []
  },
  {
   "cell_type": "code",
   "execution_count": null,
   "metadata": {},
   "outputs": [],
   "source": []
  },
  {
   "cell_type": "code",
   "execution_count": null,
   "metadata": {},
   "outputs": [],
   "source": []
  },
  {
   "cell_type": "code",
   "execution_count": null,
   "metadata": {},
   "outputs": [],
   "source": []
  },
  {
   "cell_type": "code",
   "execution_count": null,
   "metadata": {},
   "outputs": [],
   "source": []
  },
  {
   "cell_type": "code",
   "execution_count": null,
   "metadata": {},
   "outputs": [],
   "source": [
    "img.shape"
   ]
  },
  {
   "cell_type": "code",
   "execution_count": null,
   "metadata": {},
   "outputs": [],
   "source": [
    "randomrot = tf.random.uniform([], minval=0, maxval=4, dtype=tf.int32)\n",
    "plt.imshow(tf.image.rot90(img, k=randomrot)[0])\n"
   ]
  }
 ],
 "metadata": {
  "kernelspec": {
   "display_name": "Python 3",
   "language": "python",
   "name": "python3"
  },
  "language_info": {
   "codemirror_mode": {
    "name": "ipython",
    "version": 3
   },
   "file_extension": ".py",
   "mimetype": "text/x-python",
   "name": "python",
   "nbconvert_exporter": "python",
   "pygments_lexer": "ipython3",
   "version": "3.9.1"
  }
 },
 "nbformat": 4,
 "nbformat_minor": 4
}
