{
 "cells": [
  {
   "cell_type": "code",
   "execution_count": 3,
   "metadata": {},
   "outputs": [],
   "source": [
    "import numpy as np\n",
    "import math\n",
    "import matplotlib.pyplot as plt\n"
   ]
  },
  {
   "cell_type": "code",
   "execution_count": 4,
   "metadata": {},
   "outputs": [],
   "source": [
    "# Attempt to unzip zipped file, failed\n",
    "#import gzip\n",
    "#with gzip.open('fashion_mnist/train-images-idx3-ubyte.gz') as f:\n",
    "\n",
    "learning_set = np.fromfile('fashion_mnist/train-images-idx3-ubyte', dtype='uint8')\n",
    "learning_lab = np.fromfile('fashion_mnist/train-labels-idx1-ubyte', dtype='uint8')\n",
    "test_set = np.fromfile('fashion_mnist/t10k-images-idx3-ubyte', dtype='uint8')\n",
    "test_lab = np.fromfile('fashion_mnist/t10k-labels-idx1-ubyte', dtype='uint8')"
   ]
  },
  {
   "cell_type": "code",
   "execution_count": 5,
   "metadata": {},
   "outputs": [
    {
     "data": {
      "text/plain": [
       "(47040016,)"
      ]
     },
     "execution_count": 5,
     "metadata": {},
     "output_type": "execute_result"
    }
   ],
   "source": [
    "learning_set.shape"
   ]
  },
  {
   "cell_type": "code",
   "execution_count": 6,
   "metadata": {},
   "outputs": [
    {
     "name": "stdout",
     "output_type": "stream",
     "text": [
      "[  0   0 234  96]\n"
     ]
    }
   ],
   "source": [
    "class_names = ['T-shirt/top', 'Trouser', 'Pullover', 'Dress', 'Coat',\n",
    "               'Sandal',      'Shirt',   'Sneaker',  'Bag',   'Ankle boot']\n",
    "print(learning_set[4:8])"
   ]
  },
  {
   "cell_type": "markdown",
   "metadata": {},
   "source": [
    "Preprocessing MNIST data into separate folders"
   ]
  },
  {
   "cell_type": "code",
   "execution_count": 7,
   "metadata": {},
   "outputs": [],
   "source": [
    "# Importing PIL for image manipulation\n",
    "import PIL"
   ]
  },
  {
   "cell_type": "code",
   "execution_count": 8,
   "metadata": {},
   "outputs": [
    {
     "data": {
      "text/plain": [
       "<matplotlib.image.AxesImage at 0x7f1f14409550>"
      ]
     },
     "execution_count": 8,
     "metadata": {},
     "output_type": "execute_result"
    },
    {
     "data": {
      "image/png": "[encoded data removed]",
      "text/plain": [
       "<Figure size 432x288 with 1 Axes>"
      ]
     },
     "metadata": {},
     "output_type": "display_data"
    }
   ],
   "source": [
    "plt.grid(False)\n",
    "plt.xticks([])\n",
    "plt.yticks([])  \n",
    "img = np.reshape(learning_set[range(16,28*28+16)], (28,28))\n",
    "plt.imshow(img, cmap=plt.cm.binary)"
   ]
  },
  {
   "cell_type": "code",
   "execution_count": 9,
   "metadata": {},
   "outputs": [
    {
     "data": {
      "text/plain": [
       "(60000, 28, 28, 1)"
      ]
     },
     "execution_count": 9,
     "metadata": {},
     "output_type": "execute_result"
    }
   ],
   "source": [
    "np.reshape(learning_set[16:], (60000, 28, 28, 1)).shape"
   ]
  },
  {
   "cell_type": "code",
   "execution_count": 10,
   "metadata": {},
   "outputs": [],
   "source": [
    "# Loading data straight from folders, will work in 2.4.0\n",
    "\n",
    "# fashion_mnist_train = tf.keras.preprocessing.image_dataset_from_directory(\n",
    "#     train_path,\n",
    "#     labels=\"inferred\",import tensorflow as tf\n",
    "\n",
    "#     label_mode=\"int\",\n",
    "#     class_names=['T-shirt/top', 'Trouser', 'Pullover', 'Dress', 'Coat',\n",
    "#                'Sandal',      'Shirt',   'Sneaker',  'Bag',   'Ankle boot'],\n",
    "#     color_mode='grayscale',\n",
    "#     batch_size=32,\n",
    "#     image_size=(28, 28),\n",
    "#     shuffle=True,\n",
    "#     seed=None,\n",
    "#     validation_split=None,\n",
    "#     subset=None,\n",
    "#     interpolation=\"bilinear\",\n",
    "#     follow_links=False,\n",
    "# )\n",
    "\n",
    "# fashion_mnist_test = tf.keras.preprocessing.image_dataset_from_directory(\n",
    "#     test_path,\n",
    "#     labels=\"inferred\",\n",
    "#     label_mode=\"int\",\n",
    "#     class_names=['T-shirt/top', 'Trouser', 'Pullover', 'Dress', 'Coat',\n",
    "#                'Sandal',      'Shirt',   'Sneaker',  'Bag',   'Ankle boot'],\n",
    "#     color_mode='grayscale',\n",
    "#     batch_size=32,\n",
    "#     image_size=(28, 28),\n",
    "#     shuffle=True,\n",
    "#     seed=None,\n",
    "#     validation_split=None,\n",
    "#     subset=None,\n",
    "#     interpolation=\"bilinear\",\n",
    "#     follow_links=False,\n",
    "# )"
   ]
  },
  {
   "cell_type": "code",
   "execution_count": 11,
   "metadata": {},
   "outputs": [],
   "source": [
    "import tensorflow as tf\n",
    "physical_devices = tf.config.list_physical_devices('GPU') \n",
    "tf.config.experimental.set_memory_growth(physical_devices[0], True)\n",
    "\n",
    "train_examples = 60000\n",
    "test_examples = 10000\n",
    "train_dataset = tf.data.Dataset.from_tensor_slices(\n",
    "    (np.reshape(learning_set[16:], (60000, 28, 28, 1)), # Input\n",
    "     learning_lab[8:]) # Output\n",
    ")\n",
    "test_dataset  = tf.data.Dataset.from_tensor_slices(\n",
    "    (np.reshape(test_set[16:], (10000, 28, 28, 1)), # Input\n",
    "     test_lab[8:]) # Output\n",
    ")\n"
   ]
  },
  {
   "cell_type": "markdown",
   "metadata": {},
   "source": [
    "Testing whether dataset was loaded properly, should show a boot:"
   ]
  },
  {
   "cell_type": "code",
   "execution_count": 7,
   "metadata": {},
   "outputs": [
    {
     "data": {
      "text/plain": [
       "<matplotlib.image.AxesImage at 0x7fc7ed164af0>"
      ]
     },
     "execution_count": 7,
     "metadata": {},
     "output_type": "execute_result"
    },
    {
     "data": {
      "image/png": "[encoded data removed]",
      "text/plain": [
       "<Figure size 432x288 with 1 Axes>"
      ]
     },
     "metadata": {},
     "output_type": "display_data"
    }
   ],
   "source": [
    "plt.grid(False)\n",
    "plt.xticks([])\n",
    "plt.yticks([])  \n",
    "img = np.reshape(train_dataset.as_numpy_iterator().next()[0], (28,28))\n",
    "plt.imshow(img, cmap=plt.cm.binary)"
   ]
  },
  {
   "cell_type": "markdown",
   "metadata": {},
   "source": [
    "Dataset loaded, learning time"
   ]
  },
  {
   "cell_type": "code",
   "execution_count": null,
   "metadata": {},
   "outputs": [],
   "source": [
    "\n"
   ]
  },
  {
   "cell_type": "code",
   "execution_count": 12,
   "metadata": {},
   "outputs": [],
   "source": [
    "def normalize(images, labels):\n",
    "  images = tf.cast(images, tf.float32)\n",
    "  images /= 255\n",
    "  return images, labels\n",
    "\n",
    "train_dataset =  train_dataset.map(normalize)\n",
    "test_dataset  =  test_dataset.map(normalize)\n",
    "\n",
    "train_dataset =  train_dataset.cache()\n",
    "test_dataset  =  test_dataset.cache()"
   ]
  },
  {
   "cell_type": "code",
   "execution_count": 21,
   "metadata": {},
   "outputs": [],
   "source": [
    "#layerInput = tf.keras.layers.Input(shape=(28, 28, 1))\n",
    "model = tf.keras.Sequential([\n",
    "    tf.keras.layers.Conv2D(32, (3,3), activation=tf.nn.relu,\n",
    "                           input_shape=(28, 28, 1)),\n",
    "    tf.keras.layers.MaxPooling2D((2, 2), strides=2),\n",
    "    tf.keras.layers.Dropout(.1, input_shape=(28,28,32*64)),\n",
    "    tf.keras.layers.Conv2D(64, (3,3), padding='same', activation=tf.nn.relu),\n",
    "    tf.keras.layers.MaxPooling2D((2, 2), strides=2),\n",
    "    tf.keras.layers.Dropout(.1, input_shape=(28,28,32*64)),\n",
    "    tf.keras.layers.Flatten(),\n",
    "    tf.keras.layers.Dense(128, activation=tf.nn.relu),\n",
    "    tf.keras.layers.Dense(10, activation=tf.nn.softmax)\n",
    "])"
   ]
  },
  {
   "cell_type": "code",
   "execution_count": 22,
   "metadata": {},
   "outputs": [
    {
     "name": "stdout",
     "output_type": "stream",
     "text": [
      "Model: \"sequential_5\"\n",
      "_________________________________________________________________\n",
      "Layer (type)                 Output Shape              Param #   \n",
      "=================================================================\n",
      "conv2d_10 (Conv2D)           (None, 26, 26, 32)        320       \n",
      "_________________________________________________________________\n",
      "max_pooling2d_10 (MaxPooling (None, 13, 13, 32)        0         \n",
      "_________________________________________________________________\n",
      "dropout_10 (Dropout)         (None, 13, 13, 32)        0         \n",
      "_________________________________________________________________\n",
      "conv2d_11 (Conv2D)           (None, 13, 13, 64)        18496     \n",
      "_________________________________________________________________\n",
      "max_pooling2d_11 (MaxPooling (None, 6, 6, 64)          0         \n",
      "_________________________________________________________________\n",
      "dropout_11 (Dropout)         (None, 6, 6, 64)          0         \n",
      "_________________________________________________________________\n",
      "flatten_5 (Flatten)          (None, 2304)              0         \n",
      "_________________________________________________________________\n",
      "dense_10 (Dense)             (None, 128)               295040    \n",
      "_________________________________________________________________\n",
      "dense_11 (Dense)             (None, 10)                1290      \n",
      "=================================================================\n",
      "Total params: 315,146\n",
      "Trainable params: 315,146\n",
      "Non-trainable params: 0\n",
      "_________________________________________________________________\n"
     ]
    }
   ],
   "source": [
    "model.summary()"
   ]
  },
  {
   "cell_type": "code",
   "execution_count": 17,
   "metadata": {},
   "outputs": [],
   "source": [
    "model.compile(optimizer='adam',\n",
    "              loss=tf.keras.losses.SparseCategoricalCrossentropy(),\n",
    "              metrics=['accuracy'])"
   ]
  },
  {
   "cell_type": "code",
   "execution_count": 20,
   "metadata": {},
   "outputs": [],
   "source": [
    "BATCH_SIZE = 32\n",
    "train_dataset = train_dataset.cache().repeat().shuffle(train_examples).batch(BATCH_SIZE)\n",
    "test_dataset = test_dataset.cache().batch(BATCH_SIZE)"
   ]
  },
  {
   "cell_type": "code",
   "execution_count": 13,
   "metadata": {},
   "outputs": [
    {
     "name": "stdout",
     "output_type": "stream",
     "text": [
      "Model: \"sequential\"\n",
      "_________________________________________________________________\n",
      "Layer (type)                 Output Shape              Param #   \n",
      "=================================================================\n",
      "conv2d_1 (Conv2D)            (None, 28, 28, 32)        320       \n",
      "_________________________________________________________________\n",
      "max_pooling2d (MaxPooling2D) (None, 14, 14, 32)        0         \n",
      "_________________________________________________________________\n",
      "dropout (Dropout)            (None, 14, 14, 32)        0         \n",
      "_________________________________________________________________\n",
      "conv2d_2 (Conv2D)            (None, 14, 14, 64)        18496     \n",
      "_________________________________________________________________\n",
      "max_pooling2d_1 (MaxPooling2 (None, 7, 7, 64)          0         \n",
      "_________________________________________________________________\n",
      "dropout_1 (Dropout)          (None, 7, 7, 64)          0         \n",
      "_________________________________________________________________\n",
      "flatten (Flatten)            (None, 3136)              0         \n",
      "_________________________________________________________________\n",
      "dense (Dense)                (None, 128)               401536    \n",
      "_________________________________________________________________\n",
      "dense_1 (Dense)              (None, 10)                1290      \n",
      "=================================================================\n",
      "Total params: 421,642\n",
      "Trainable params: 421,642\n",
      "Non-trainable params: 0\n",
      "_________________________________________________________________\n"
     ]
    }
   ],
   "source": [
    "model.summary()"
   ]
  },
  {
   "cell_type": "code",
   "execution_count": 21,
   "metadata": {},
   "outputs": [
    {
     "name": "stdout",
     "output_type": "stream",
     "text": [
      "Epoch 1/10\n",
      "1875/1875 [==============================] - 7s 4ms/step - loss: 0.4187 - accuracy: 0.8480\n",
      "Epoch 2/10\n",
      "1875/1875 [==============================] - 6s 3ms/step - loss: 0.2684 - accuracy: 0.9008\n",
      "Epoch 3/10\n",
      "1875/1875 [==============================] - 5s 3ms/step - loss: 0.2246 - accuracy: 0.9174\n",
      "Epoch 4/10\n",
      "1875/1875 [==============================] - 6s 3ms/step - loss: 0.1935 - accuracy: 0.9285\n",
      "Epoch 5/10\n",
      "1875/1875 [==============================] - 6s 3ms/step - loss: 0.1650 - accuracy: 0.9389\n",
      "Epoch 6/10\n",
      "1875/1875 [==============================] - 5s 3ms/step - loss: 0.1410 - accuracy: 0.9479\n",
      "Epoch 7/10\n",
      "1875/1875 [==============================] - 5s 3ms/step - loss: 0.1230 - accuracy: 0.9547\n",
      "Epoch 8/10\n",
      "1875/1875 [==============================] - 6s 3ms/step - loss: 0.1057 - accuracy: 0.9607\n",
      "Epoch 9/10\n",
      "1875/1875 [==============================] - 6s 3ms/step - loss: 0.0902 - accuracy: 0.9670\n",
      "Epoch 10/10\n",
      "1875/1875 [==============================] - 7s 3ms/step - loss: 0.0760 - accuracy: 0.9712\n"
     ]
    },
    {
     "data": {
      "text/plain": [
       "<tensorflow.python.keras.callbacks.History at 0x7fc675041190>"
      ]
     },
     "execution_count": 21,
     "metadata": {},
     "output_type": "execute_result"
    }
   ],
   "source": [
    "model.fit(train_dataset, epochs=10, steps_per_epoch=math.ceil(train_examples/BATCH_SIZE))"
   ]
  },
  {
   "cell_type": "code",
   "execution_count": 15,
   "metadata": {},
   "outputs": [
    {
     "name": "stdout",
     "output_type": "stream",
     "text": [
      "313/313 [==============================] - 1s 2ms/step - loss: 0.2425 - accuracy: 0.9259\n",
      "Accuracy on test dataset: 0.9258999824523926\n"
     ]
    }
   ],
   "source": [
    "test_loss, test_accuracy = model.evaluate(test_dataset, steps=math.ceil(test_examples/32))\n",
    "print('Accuracy on test dataset:', test_accuracy)"
   ]
  },
  {
   "cell_type": "code",
   "execution_count": 16,
   "metadata": {},
   "outputs": [],
   "source": [
    "def plot_image(i, predictions_array, true_labels, images):\n",
    "  predictions_array, true_label, img = predictions_array[i], true_labels[i], images[i]\n",
    "  plt.grid(False)\n",
    "  plt.xticks([])\n",
    "  plt.yticks([])\n",
    "  \n",
    "  plt.imshow(img[...,0], cmap=plt.cm.binary)\n",
    "    \n",
    "\n",
    "  predicted_label = np.argmax(predictions_array)\n",
    "  if predicted_label == true_label:\n",
    "    color = 'blue'\n",
    "  else:\n",
    "    color = 'red'\n",
    "  \n",
    "  plt.xlabel(\"{} {:2.0f}% ({})\".format(class_names[predicted_label],\n",
    "                                100*np.max(predictions_array),\n",
    "                                class_names[true_label]),\n",
    "                                color=color)\n",
    "\n",
    "def plot_value_array(i, predictions_array, true_label):\n",
    "  predictions_array, true_label = predictions_array[i], true_label[i]\n",
    "  plt.grid(False)\n",
    "  plt.xticks([])\n",
    "  plt.yticks([])\n",
    "  thisplot = plt.bar(range(10), predictions_array, color=\"#777777\")\n",
    "  plt.ylim([0, 1])\n",
    "  predicted_label = np.argmax(predictions_array)\n",
    "  dropout (Dropout)            (None, 14, 14, 64)        0\n",
    "  thisplot[predicted_label].set_color('red')\n",
    "  thisplot[true_label].set_color('blue')"
   ]
  },
  {
   "cell_type": "code",
   "execution_count": 17,
   "metadata": {},
   "outputs": [],
   "source": [
    "for test_images, test_labels in test_dataset.take(1):\n",
    "  test_images = test_images.numpy()\n",
    "  test_labels = test_labels.numpy()\n",
    "  predictions = model.predict(test_images)"
   ]
  },
  {
   "cell_type": "code",
   "execution_count": 18,
   "metadata": {},
   "outputs": [
    {
     "data": {
      "image/png": "[encoded data removed]",
      "text/plain": [
       "<Figure size 864x720 with 30 Axes>"
      ]
     },
     "metadata": {},
     "output_type": "display_data"
    }
   ],
   "source": [
    "# Plot the first X test images, their predicted label, and the true label\n",
    "# Color correct predictions in blue, incorrect predictions in red\n",
    "num_rows = 5\n",
    "num_cols = 3\n",
    "num_images = num_rows*num_cols\n",
    "plt.figure(figsize=(2*2*num_cols, 2*num_rows))\n",
    "for i in range(num_images):\n",
    "  plt.subplot(num_rows, 2*num_cols, 2*i+1)\n",
    "  plot_image(i, predictions, test_labels, test_images)\n",
    "  plt.subplot(num_rows, 2*num_cols, 2*i+2)\n",
    "  plot_value_array(i, predictions, test_labels)"
   ]
  },
  {
   "cell_type": "markdown",
   "metadata": {},
   "source": [
    "## Model U-net"
   ]
  },
  {
   "cell_type": "code",
   "execution_count": 1,
   "metadata": {},
   "outputs": [
    {
     "data": {
      "text/plain": [
       "'\\n\\n'"
      ]
     },
     "execution_count": 1,
     "metadata": {},
     "output_type": "execute_result"
    }
   ],
   "source": [
    "'''\n",
    "#\n",
    "import tensorflow as tf\n",
    "import matplotlib.pyplot as plt\n",
    "import cv2\n",
    "import numpy as np\n",
    "import os\n",
    "from matplotlib import pyplot as plt\n",
    "import time\n",
    "\n",
    "global batch_size  ########################################\n",
    "batch_size = 32\n",
    "\n",
    "def deconv2d(input_, output_shape,\n",
    "             k_h=3, k_w=3, d_h=2, d_w=2, stddev=0.02,\n",
    "             name='deconv2d', init_bias=0.):\n",
    "  \"\"\"Creates deconvolutional layers.\n",
    "  Args:\n",
    "    input_: 4D input tensor (batch size, height, width, channel).\n",
    "    output_shape: Number of features in the output layer.\n",
    "    k_h: The height of the convolutional kernel.\n",
    "    k_w: The width of the convolutional kernel.\n",
    "    d_h: The height stride of the convolutional kernel.\n",
    "    d_w: The width stride of the convolutional kernel.\n",
    "    stddev: The standard deviation for weights initializer.\n",
    "    name: The name of the variable scope.\n",
    "    init_bias: The initial bias for the layer.\n",
    "  Returns:\n",
    "    conv: The normalized tensor.\n",
    "  \"\"\"\n",
    "  with tf.variable_scope(name):\n",
    "    w = tf.get_variable('w',\n",
    "                        [k_h, k_w, output_shape[-1], input_.get_shape()[-1]],\n",
    "                        initializer=tf.random_normal_initializer(stddev=stddev))\n",
    "    deconv = tf.nn.conv2d_transpose(input_, w, output_shape=output_shape,\n",
    "                                    strides=[1, d_h, d_w, 1])\n",
    "    biases = tf.get_variable('biases', [output_shape[-1]],\n",
    "                             initializer=tf.constant_initializer(init_bias))\n",
    "    deconv = tf.nn.bias_add(deconv, biases)\n",
    "    deconv.shape.assert_is_compatible_with(output_shape)\n",
    "\n",
    "    return deconv\n",
    "\n",
    "def Network (Input1,Input2): #input1 : [Batch_size, 256, 256, 3], input2 : [Batch_size, 64, 64, 3]\n",
    "    \n",
    "    \n",
    "    sess = tf.Session()\n",
    "    \n",
    "    \n",
    "    with tf.name_scope (\"Encoder\"):\n",
    "        \n",
    "        \n",
    "        \n",
    "        conv1_1 = tf.layers.conv2d(Input1, filters = 64, \n",
    "                                   kernel_size = 3, strides = 1, padding='SAME', \n",
    "                                   activation = tf.nn.relu, name = 'conv1_1') #[32, 256, 256, 64]\n",
    "        conv1_2 = tf.layers.conv2d(conv1_1, filters = 64, \n",
    "                                   kernel_size = 3, strides = 1, padding='SAME', \n",
    "                                   activation = tf.nn.relu, name = 'conv1_2') #[32, 256, 256, 64]\n",
    "        pool1 = tf.layers.max_pooling2d(conv1_2, pool_size = 2,\n",
    "                                   strides = 2, padding='SAME', name = 'pool1') #[32, 128, 128, 64]\n",
    "        \n",
    "        \n",
    "        \n",
    "        conv2_1 = tf.layers.conv2d(pool1, filters = 128, \n",
    "                                   kernel_size = 3, strides = 1, padding='SAME', \n",
    "                                   activation = tf.nn.relu, name = 'conv2_1')  #[32, 128, 128, 128]\n",
    "        conv2_2 = tf.layers.conv2d(conv2_1, filters = 128, \n",
    "                                   kernel_size = 3, strides = 1, padding='SAME', \n",
    "                                   activation = tf.nn.relu, name = 'conv2_2')  #[32, 128, 128, 128]\n",
    "        pool2 = tf.layers.max_pooling2d(conv2_2, pool_size = 2, \n",
    "                                   strides = 2, padding='SAME', name = 'pool2')  #[32, 64, 64, 128]\n",
    "        \n",
    "        \n",
    "        \n",
    "        conv3_1 = tf.layers.conv2d(pool2, filters = 256, kernel_size = 3, \n",
    "                                   strides = 1, padding='SAME', \n",
    "                                   activation = tf.nn.relu, name = 'conv3_1') #[32, 64, 64, 256]\n",
    "        conv3_2 = tf.layers.conv2d(conv3_1, filters = 256, \n",
    "                                   kernel_size = 3, strides = 1, padding='SAME', \n",
    "                                   activation = tf.nn.relu, name = 'conv3_2')  #[32, 64, 64, 256]\n",
    "        pool3 = tf.layers.max_pooling2d(conv3_2, pool_size = 2, \n",
    "                                   strides = 2, padding='SAME', name = 'pool3')  #[32, 32, 32, 256]\n",
    "        \n",
    "        \n",
    "        \n",
    "        conv4_1 = tf.layers.conv2d(pool3, filters = 512, kernel_size = 3, #\n",
    "                                   strides = 1, padding='SAME', \n",
    "                                   activation = tf.nn.relu, name = 'conv4_1')  #[32, 32, 32, 512]\n",
    "        conv4_2 = tf.layers.conv2d(conv4_1, filters = 512, kernel_size = 3, \n",
    "                                   strides = 1, padding='SAME', \n",
    "                                   activation = tf.nn.relu, name = 'conv4_2')  #[32, 32, 32, 512]\n",
    "        pool4 = tf.layers.max_pooling2d(conv4_2, pool_size = 2, \n",
    "                                   strides = 2, padding='SAME', name = 'pool4')  #[32, 16, 16, 512]\n",
    "        \n",
    "        \n",
    "        \n",
    "        conv5_1 = tf.layers.conv2d(pool4, filters = 512, kernel_size = 3, \n",
    "                                   strides = 1, padding='SAME', \n",
    "                                   activation = tf.nn.relu, name = 'conv5_1')  #[32, 16, 16, 512]\n",
    "        conv5_2 = tf.layers.conv2d(conv5_1, filters = 512, kernel_size = 3, \n",
    "                                   strides = 1, padding='SAME', \n",
    "                                   activation = tf.nn.relu, name = 'conv5_2')  #[32, 16, 16, 512]\n",
    "        pool5 = tf.layers.max_pooling2d(conv5_2, pool_size = 2, \n",
    "                                   strides = 2, padding='SAME', name = 'pool5')  #[32, 8, 8, 512]\n",
    "        \n",
    "       \n",
    "        \n",
    "    with tf.name_scope(\"Conditional\"):\n",
    "        \n",
    "        \n",
    "        \n",
    "        Bconv1_1 = tf.layers.conv2d(Input2, filters = 32, kernel_size = 3, \n",
    "                                    strides = 1, padding='SAME', \n",
    "                                    activation = tf.nn.relu, name = 'Bconv1_1') #[32, 64, 64, 32]\n",
    "        Bconv1_2 = tf.layers.conv2d(Bconv1_1, filters = 32, kernel_size = 3, \n",
    "                                    strides = 1, padding='SAME', \n",
    "                                    activation = tf.nn.relu, name = 'Bconv1_2') #[32, 64, 64, 32]\n",
    "        Bpool1 = tf.layers.max_pooling2d(Bconv1_2, pool_size = 2, \n",
    "                                    strides = 2, padding='SAME', name = 'Bpool1')  #[32, 32, 32, 32]\n",
    "        \n",
    "        \n",
    "        \n",
    "        Bconv2_1 = tf.layers.conv2d(Bpool1, filters = 64, kernel_size = 3, \n",
    "                                    strides = 1, padding='SAME', \n",
    "                                    activation = tf.nn.relu, name = 'Bconv2_1')  #[32 32, 32, 64]\n",
    "        Bconv2_2 = tf.layers.conv2d(Bconv2_1, filters = 64, kernel_size = 3, \n",
    "                                    strides = 1, padding='SAME', \n",
    "                                    activation = tf.nn.relu, name = 'Bconv2_2')  #[32, 32, 32, 64]\n",
    "        Bpool2 = tf.layers.max_pooling2d(Bconv2_2, pool_size = 2, \n",
    "                                    strides = 2, padding='SAME', name = 'Bpool2') #[32, 16, 16, 64]\n",
    "        \n",
    "        \n",
    "        \n",
    "        Bconv3_1 = tf.layers.conv2d(Bpool2, filters = 128, kernel_size = 3, \n",
    "                                    strides = 1, padding='SAME', \n",
    "                                    activation = tf.nn.relu, name = 'Bconv3_1')  #[32, 16, 16, 128]\n",
    "        Bpool3 = tf.layers.max_pooling2d(Bconv3_1, pool_size = 2, \n",
    "                                    strides = 2, padding='SAME', name = 'Bpool3')  #[32, 8, 8, 128]\n",
    "        \n",
    "        \n",
    "        \n",
    "        Bconv4_1 = tf.layers.conv2d(Bpool3, filters = 256, kernel_size = 3, \n",
    "                                    strides = 1, padding='SAME', \n",
    "                                    activation = tf.nn.relu, name = 'Bconv4_1')  #[32, 8, 8, 256]\n",
    "        Bpool4 = tf.layers.max_pooling2d(Bconv4_1, pool_size = 2, \n",
    "                                    strides = 2, padding='SAME', name = 'Bpool4')  #[32, 4, 4, 512]\n",
    "        \n",
    "        \n",
    "        \n",
    "        Bconv5_1 = tf.layers.conv2d(Bpool4, filters = 512, kernel_size = 3, \n",
    "                                    strides = 1, padding='SAME', \n",
    "                                    activation = tf.nn.relu, name = 'Bconv5_1')  #[32, 4, 4, 512]\n",
    "        Bpool5 = tf.layers.max_pooling2d(Bconv5_1, pool_size = 2, \n",
    "                                    strides = 2, padding='SAME', name = 'Bpool5')  #[32, 2, 2, 512]\n",
    "        \n",
    "        \n",
    "        Bconv6 = tf.layers.conv2d(Bpool5, filters = 512, kernel_size = 2, \n",
    "                                    strides = 1, activation = tf.nn.relu, name = 'Bconv6') #[32, 1, 1, 512]\n",
    "        \n",
    "        \n",
    "  \n",
    "        Btile1=tf.tile(Bconv6,[1,pool5.get_shape().as_list()[1],pool5.get_shape().as_list()[2],1])  #[32, 8, 8, 512]\n",
    "    \n",
    "        Btile2=tf.tile(Bconv6,[1,conv5_2.get_shape().as_list()[1],conv5_2.get_shape().as_list()[2],1]) #[32, 16, 16, 512]\n",
    "         \n",
    "        Btile3=tf.tile(Bconv6,[1,conv4_2.get_shape().as_list()[1],conv4_2.get_shape().as_list()[2],1])  #[32, 32, 32, 512]\n",
    "        \n",
    "        Btile4=tf.tile(Bconv6,[1,conv3_2.get_shape().as_list()[1],conv3_2.get_shape().as_list()[2],1])  #[32, 64, 64, 512]\n",
    "        \n",
    "        Btile5=tf.tile(Bconv6,[1,conv2_2.get_shape().as_list()[1],conv2_2.get_shape().as_list()[2],1])  #[32, 128, 128, 512]\n",
    "        \n",
    "        \n",
    "       \n",
    "        \n",
    "    with tf.name_scope(\"Decoder\"):\n",
    "        \n",
    "        \n",
    "        #concatination\n",
    "        efused_1= tf.concat([pool5,Btile1],-1, name='efused_1')  #[32, 8, 8, 1024]\n",
    "        \n",
    "        #3x3 convolution + 3x3 convolution + 2x2 upsampling\n",
    "        Dconv1_1=tf.layers.conv2d(efused_1, filters=512, kernel_size=3, \n",
    "                                             strides=1, padding='SAME',\n",
    "                                            activation=tf.nn.relu, name='Dconv1_1')  #[32, 8, 8, 512]\n",
    "        \n",
    "        Dconv1_2=tf.layers.conv2d(Dconv1_1, filters=512, kernel_size=3, \n",
    "                                             strides=1, padding='SAME',\n",
    "                                            activation=tf.nn.relu, name='Dconv1_2')  #[32, 8, 8, 512]\n",
    "        \n",
    "        upsam1=tf.nn.relu(deconv2d(Dconv1_2, [batch_size,16,16,512], name='upsam1')) #[32, 16, 16, 512]]\n",
    "     \n",
    "    \n",
    "    \n",
    "        #concatination\n",
    "        efused_2= tf.concat([conv5_2,Btile2],-1, name='efused_2')  #[32, 16, 16, 1024]\n",
    "        \n",
    "        #1x1 convolution\n",
    "        fconv_1 = tf.layers.conv2d(efused_2, filters = 512, kernel_size = 1, \n",
    "                                            strides = 1, padding='SAME', \n",
    "                                            activation = tf.nn.relu, name = 'fconv_1')  #[32, 16, 16, 512]\n",
    "        #concatination\n",
    "        dfused_2= tf.concat([upsam1 ,fconv_1],-1, name='dfused_2')  #[32, 16, 16, 1024]\n",
    "        \n",
    "        #3x3 convolution + 3x3 convolution + 2x2 upsampling\n",
    "        Dconv2_1=tf.layers.conv2d(dfused_2, filters=512, kernel_size=3, \n",
    "                                             strides=1, padding='SAME',\n",
    "                                            activation=tf.nn.relu, name='Dconv2_1')  #[32, 16, 16, 512]\n",
    "        \n",
    "        Dconv2_2=tf.layers.conv2d(Dconv2_1, filters=512, kernel_size=3, \n",
    "                                             strides=1, padding='SAME',\n",
    "                                            activation=tf.nn.relu, name='Dconv2_2')  #[32, 16, 16, 512]\n",
    "        \n",
    "        upsam2 =tf.nn.relu(deconv2d(Dconv2_2, [batch_size,32,32,512], name='upsam2')) #[32, 32, 32, 512]\n",
    "\n",
    "        \n",
    "        \n",
    "        \n",
    "        #concatination\n",
    "        efused_3= tf.concat([conv4_2,Btile3],-1, name='efused_3')  #[32, 32, 32, 1024]\n",
    "        \n",
    "        #1x1 convolution\n",
    "        fconv_2 = tf.layers.conv2d(efused_3, filters = 256, kernel_size = 1, \n",
    "                                           strides = 1, padding='SAME', \n",
    "                                           activation = tf.nn.relu, name = 'fconv_2')  #[32, 32, 32, 256]\n",
    "        #concatination\n",
    "        dfused_3= tf.concat([upsam2 ,fconv_2],-1, name='dfused_3')  #[32, 32, 32, 768]\n",
    "        \n",
    "        #3x3 convolution + 3x3 convolution + 2x2 upsampling\n",
    "        Dconv3_1=tf.layers.conv2d(dfused_3, filters=256, kernel_size=3, \n",
    "                                             strides=1, padding='SAME',\n",
    "                                            activation=tf.nn.relu, name='Dconv3_1')  #[32, 32, 32, 256]\n",
    "        \n",
    "        Dconv3_2=tf.layers.conv2d(Dconv3_1, filters=256, kernel_size=3, \n",
    "                                             strides=1, padding='SAME',\n",
    "                                            activation=tf.nn.relu, name='Dconv3_2')  #[32, 32, 32, 256]\n",
    "        \n",
    "        upsam3 = tf.nn.relu(deconv2d(Dconv3_2, [batch_size,64,64,256], name='upsam3'))  #[32, 64, 64, 256]\n",
    "\n",
    "        \n",
    "    \n",
    "    \n",
    "    \n",
    "        #concatination\n",
    "        efused_4= tf.concat([conv3_2,Btile4],-1, name='efused_4')  #[32, 64, 64, 768]\n",
    "        \n",
    "        #1x1 convolution\n",
    "        fconv_3 = tf.layers.conv2d(efused_4, filters = 128, kernel_size = 1, \n",
    "                                           strides = 1, padding='SAME', \n",
    "                                           activation = tf.nn.relu, name = 'fconv_3')  #[32, 64, 64, 128]\n",
    "        #concatination\n",
    "        dfused_4= tf.concat([upsam3 ,fconv_3],-1, name='dfused_4')  #[32, 64, 64, 384]\n",
    "        \n",
    "        #3x3 convolution + 3x3 convolution + 2x2 upsampling\n",
    "        Dconv4_1=tf.layers.conv2d(dfused_4, filters=128, kernel_size=3, \n",
    "                                             strides=1, padding='SAME',\n",
    "                                            activation=tf.nn.relu, name='Dconv4_1')  #[32, 64, 64, 128]\n",
    "        \n",
    "        Dconv4_2=tf.layers.conv2d(Dconv4_1, filters=128, kernel_size=3, \n",
    "                                             strides=1, padding='SAME',\n",
    "                                            activation=tf.nn.relu, name='Dconv4_2')  #[32, 64, 64, 128]\n",
    "        \n",
    "        upsam4 = tf.nn.relu(deconv2d(Dconv4_2, [batch_size,128,128,128], name='upsam4'))  #[32, 128, 128, 128]\n",
    " \n",
    "\n",
    "\n",
    "\n",
    "\n",
    "\n",
    "        #concatination\n",
    "        efused_5= tf.concat([conv2_2,Btile5],-1, name='efused_5')  #[32, 128, 128, 640]\n",
    "        \n",
    "        #1x1 convolution\n",
    "        fconv_4 = tf.layers.conv2d(efused_5, filters = 64, kernel_size = 1, \n",
    "                                           strides = 1, padding='SAME', \n",
    "                                           activation = tf.nn.relu, name = 'fconv_4')  #[32, 128, 128, 64]\n",
    "        #concatination\n",
    "        dfused_5= tf.concat([upsam4 ,fconv_4],-1, name='dfused_5')  #[32, 128, 128, 192]\n",
    "        \n",
    "        \n",
    "        #3x3 convolution + 3x3 convolution + 2x2 upsampling\n",
    "        Dconv5_1=tf.layers.conv2d(dfused_5, filters=64, kernel_size=3, \n",
    "                                            strides=1, padding='SAME',\n",
    "                                           activation=tf.nn.relu, name='Dconv5_1')  #[32, 128, 128, 64]\n",
    "        \n",
    "        Dconv5_2=tf.layers.conv2d(Dconv5_1, filters=64, kernel_size=3, \n",
    "                                            strides=1, padding='SAME',\n",
    "                                           activation=tf.nn.relu, name='Dconv5_2')  #[32, 128, 128, 64]\n",
    "        \n",
    "        upsam5 = tf.nn.relu(deconv2d(Dconv5_2, [batch_size,256,256,64], name='upsam5'))  #[32, 256, 256, 64]\n",
    "        \n",
    "        \n",
    "        output=tf.layers.conv2d(upsam5, filters=1, kernel_size=3, \n",
    "                                           strides=1,  padding='SAME', name='fconv_5')  #[32, 256, 256, 1]\n",
    "        \n",
    "        \n",
    "    \n",
    "    output = tf.identity(output, 'Output')\n",
    "        \n",
    "        \n",
    "    trainwriter = tf.summary.FileWriter('./log_dir14/', sess.graph)\n",
    "        \n",
    "\n",
    "tf.reset_default_graph()\n",
    "\n",
    "\n",
    "\n",
    "Input1=tf.placeholder(dtype = tf.float32, shape = [batch_size, 256, 256, 3], name = 'Target')\n",
    "Input2=tf.placeholder(dtype = tf.float32, shape = [batch_size, 64, 64, 3], name = 'Query')\n",
    "\n",
    "\n",
    "Output = Network(Input1,Input2)###\n",
    "Output = Network(Input1,Input2)\n",
    "'''"
   ]
  },
  {
   "cell_type": "code",
   "execution_count": 8,
   "metadata": {},
   "outputs": [],
   "source": []
  },
  {
   "cell_type": "code",
   "execution_count": null,
   "metadata": {},
   "outputs": [],
   "source": []
  }
 ],
 "metadata": {
  "kernelspec": {
   "display_name": "Python 3",
   "language": "python",
   "name": "python3"
  },
  "language_info": {
   "codemirror_mode": {
    "name": "ipython",
    "version": 3
   },
   "file_extension": ".py",
   "mimetype": "text/x-python",
   "name": "python",
   "nbconvert_exporter": "python",
   "pygments_lexer": "ipython3",
   "version": "3.8.3"
  }
 },
 "nbformat": 4,
 "nbformat_minor": 4
}
