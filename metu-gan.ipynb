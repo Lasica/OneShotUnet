{
 "metadata": {
  "language_info": {
   "codemirror_mode": {
    "name": "ipython",
    "version": 3
   },
   "file_extension": ".py",
   "mimetype": "text/x-python",
   "name": "python",
   "nbconvert_exporter": "python",
   "pygments_lexer": "ipython3",
   "version": "3.8.6-final"
  },
  "orig_nbformat": 2,
  "kernelspec": {
   "name": "python3",
   "display_name": "Python 3",
   "language": "python"
  }
 },
 "nbformat": 4,
 "nbformat_minor": 2,
 "cells": [
  {
   "cell_type": "code",
   "execution_count": 1,
   "metadata": {},
   "outputs": [],
   "source": [
    "import tensorflow as tf\n",
    "import numpy as np\n",
    "import cv2\n",
    "import matplotlib.pyplot as plt\n",
    "import csv\n",
    "import os\n",
    "import sys\n",
    "import time"
   ]
  },
  {
   "cell_type": "code",
   "execution_count": 2,
   "metadata": {},
   "outputs": [],
   "source": [
    "METU_RAW_PATH = '/qarr/studia/magister/datasets/METU/930k_logo_v3/'\n",
    "METU_DATASET_PATH = '/qarr/studia/magister/datasets/METU/resized_930k_logo'"
   ]
  },
  {
   "cell_type": "code",
   "execution_count": 21,
   "metadata": {},
   "outputs": [],
   "source": [
    "def progressBar(iterable, prefix = '', suffix = '', decimals = 1, length = 100, fill = '█', printEnd = \"\"):\n",
    "    \"\"\"\n",
    "    Call in a loop to create terminal progress bar\n",
    "    @params:\n",
    "        iteration   - Required  : current iteration (Int)\n",
    "        total       - Required  : total iterations (Int)\n",
    "        prefix      - Optional  : prefix string (Str)\n",
    "        suffix      - Optional  : suffix string (Str)\n",
    "        decimals    - Optional  : positive number of decimals in percent complete (Int)\n",
    "        length      - Optional  : character length of bar (Int)\n",
    "        fill        - Optional  : bar fill character (Str)\n",
    "        printEnd    - Optional  : end character (e.g. \"\\r\", \"\\r\\n\") (Str)\n",
    "    \"\"\"\n",
    "    total = len(iterable)\n",
    "    # Progress Bar Printing Function\n",
    "    def printProgressBar (iteration):\n",
    "        percent = (\"{0:.\" + str(decimals) + \"f}\").format(100 * (iteration / float(total)))\n",
    "        if percent != (\"{0:.\" + str(decimals) + \"f}\").format(100 * ((iteration-1) / float(total))):\n",
    "            filledLength = int(length * iteration // total)\n",
    "            bar = fill * filledLength + '-' * (length - filledLength)\n",
    "            sys.stderr.write(f'\\r{prefix} |{bar}| {percent}% {suffix}' + printEnd)\n",
    "    # Initial Call\n",
    "    printProgressBar(0)\n",
    "    # Update Progress Bar\n",
    "    for i, item in enumerate(iterable):\n",
    "        yield item\n",
    "        printProgressBar(i + 1)\n",
    "    # Print New Line on Complete\n",
    "    sys.stderr.flush()\n",
    "    print()\n"
   ]
  },
  {
   "cell_type": "code",
   "execution_count": 4,
   "metadata": {},
   "outputs": [
    {
     "output_type": "stream",
     "name": "stderr",
     "text": [
      "Progress: |████████████████████████████████████████████████████████████| 100.0% Complete"
     ]
    }
   ],
   "source": [
    "for i in progressBar(list(range(50)), prefix=\"Progress:\", suffix=\"Complete\", length=60, printEnd=\"\"):\n",
    "    time.sleep(0.1)"
   ]
  },
  {
   "cell_type": "code",
   "execution_count": 5,
   "metadata": {},
   "outputs": [],
   "source": [
    "def rescale(nparray, scale=128.0, translate = 128.0):\n",
    "    return (np.array(nparray, dtype=np.float32)- translate)/scale"
   ]
  },
  {
   "cell_type": "code",
   "execution_count": 6,
   "metadata": {},
   "outputs": [],
   "source": [
    "def prepare_resized_dataset(METU_RAW_PATH, METU_DATASET_PATH):\n",
    "    start_time = time.time()\n",
    "    imgList = os.listdir(METU_RAW_PATH)\n",
    "    if not os.path.exists(METU_DATASET_PATH):\n",
    "        os.mkdir(METU_DATASET_PATH)\n",
    "    for imgPath in progressBar(imgList, prefix = 'Progress:', suffix = 'Complete', length = 50):\n",
    "        img = cv2.imread(f'{METU_RAW_PATH}/{imgPath}')\n",
    "        img = cv2.cvtColor(img, cv2.COLOR_BGR2RGB)\n",
    "        x,y,z = img.shape\n",
    "\n",
    "        grCoord = max(x,y)\n",
    "        X = int(np.round(x/(grCoord/128)))\n",
    "        Y = int(np.round(y/(grCoord/128)))\n",
    "        whiteImg = np.ones((128,128,3))*255\n",
    "        rescImg = cv2.resize(img, dsize=(Y, X), interpolation=cv2.INTER_CUBIC)\n",
    "        #rescImg = rescale(rescImg)\n",
    "        middleX = (128-X)//2\n",
    "        middleY = (128-Y)//2\n",
    "        \n",
    "        whiteImg[middleX:middleX+X, middleY:middleY+Y] = rescImg[:,:]\n",
    "        if not os.path.exists(f\"{METU_DATASET_PATH}/{imgPath}\"):\n",
    "            cv2.imwrite(f\"{METU_DATASET_PATH}/{imgPath}\", whiteImg)\n",
    "\n",
    "    end_time = time.time()\n",
    "\n",
    "    print(f'Time taken to resize dataset: {end_time-start_time} seconds')"
   ]
  },
  {
   "cell_type": "code",
   "execution_count": 29,
   "metadata": {},
   "outputs": [],
   "source": [
    "def load_sample(path):\n",
    "    img = cv2.imread(path)\n",
    "    img = cv2.cvtColor(img, cv2.COLOR_BGR2RGB)\n",
    "    return rescale(img)\n"
   ]
  },
  {
   "cell_type": "code",
   "execution_count": 30,
   "metadata": {},
   "outputs": [],
   "source": [
    "def load_dataset(metu_dataset_path, portion=1.0, nexamples=None, scale=128.0, translate=128.0):\n",
    "    start_time = time.time()\n",
    "    imgList = os.listdir(metu_dataset_path) \n",
    "    total_examples = len(imgList)\n",
    "    to_load = min(nexamples or int(portion*total_examples), total_examples)\n",
    "\n",
    "    images_array = np.zeros(shape=(to_load, 128, 128, 3))\n",
    "\n",
    "    for i, imgPath in enumerate(progressBar(imgList[:to_load], prefix = 'Progress:', suffix = 'Complete', length = 50)):\n",
    "        images_array[i] = load_sample(f'{metu_dataset_path}/{imgPath}')\n",
    "\n",
    "    end_time = time.time()\n",
    "\n",
    "    print(f'Time taken to load {to_load} samples from METU dataset: {end_time-start_time:.3} seconds')\n",
    "    return images_array"
   ]
  },
  {
   "cell_type": "code",
   "execution_count": 31,
   "metadata": {},
   "outputs": [],
   "source": [
    "import multiprocessing\n",
    "\n",
    "def load_dataset2(metu_dataset_path, portion=1.0, nexamples=None, scale=128.0, translate=128.0):\n",
    "    start_time = time.time()\n",
    "    imgList = os.listdir(metu_dataset_path) \n",
    "    total_examples = len(imgList)\n",
    "    to_load = min(nexamples or int(portion*total_examples), total_examples)\n",
    "\n",
    "    images_array = np.zeros(shape=(to_load, 128, 128, 3))\n",
    "\n",
    "    agents=5\n",
    "    chunksize = 10\n",
    "    imgList = [f'{metu_dataset_path}/{imgPath}' for imgPath in imgList]\n",
    "    with multiprocessing.Pool(processes=agents) as pool:\n",
    "        images_array = pool.map(load_sample, progressBar(imgList[:to_load], prefix = 'Progress:', suffix = 'Complete', length = 50), chunksize=chunksize)\n",
    "\n",
    "    end_time = time.time()\n",
    "\n",
    "    print(f'Time taken to load {to_load} samples from METU dataset: {end_time-start_time:.3} seconds')\n",
    "    return images_array"
   ]
  },
  {
   "cell_type": "code",
   "execution_count": 35,
   "metadata": {},
   "outputs": [
    {
     "output_type": "stream",
     "name": "stderr",
     "text": [
      "Progress: |█████████████████████████████████████████████████-| 100.0% Complete\n",
      "Time taken to load 10240 samples from METU dataset: 69.2 seconds\n"
     ]
    }
   ],
   "source": [
    "img_array = load_dataset2(METU_DATASET_PATH, nexamples=10240)"
   ]
  },
  {
   "cell_type": "code",
   "execution_count": 34,
   "metadata": {},
   "outputs": [
    {
     "output_type": "stream",
     "name": "stderr",
     "text": [
      "Progress: |█████████████████████████████████████████████████-| 100.0% Complete\n",
      "Time taken to load 10240 samples from METU dataset: 78.9 seconds\n"
     ]
    }
   ],
   "source": [
    "img_array = load_dataset(METU_DATASET_PATH, nexamples=10240)"
   ]
  },
  {
   "cell_type": "code",
   "execution_count": 53,
   "metadata": {},
   "outputs": [],
   "source": [
    "metuDataset = tf.data.Dataset.from_tensor_slices(img_array)"
   ]
  },
  {
   "cell_type": "code",
   "execution_count": 57,
   "metadata": {},
   "outputs": [
    {
     "output_type": "execute_result",
     "data": {
      "text/plain": [
       "<TakeDataset shapes: (None, 128, 128, 3), types: tf.float64>"
      ]
     },
     "metadata": {},
     "execution_count": 57
    }
   ],
   "source": [
    "metuDataset.batch(32)"
   ]
  },
  {
   "cell_type": "code",
   "execution_count": 31,
   "metadata": {},
   "outputs": [
    {
     "output_type": "execute_result",
     "data": {
      "text/plain": [
       "(9229, 128, 128, 3)"
      ]
     },
     "metadata": {},
     "execution_count": 31
    }
   ],
   "source": []
  },
  {
   "cell_type": "code",
   "execution_count": null,
   "metadata": {},
   "outputs": [],
   "source": []
  }
 ]
}