{
 "cells": [
  {
   "cell_type": "code",
   "execution_count": null,
   "metadata": {},
   "outputs": [],
   "source": [
    "import tensorflow as tf\n",
    "import numpy as np\n",
    "import cv2\n",
    "import matplotlib.pyplot as plt\n",
    "import csv\n",
    "import os\n",
    "import sys\n",
    "import time\n",
    "import logging\n",
    "import re\n",
    "from commons import *\n",
    "from metuhelpers import *\n",
    "from gan_arch import *\n",
    "from datetime import datetime"
   ]
  },
  {
   "cell_type": "code",
   "execution_count": null,
   "metadata": {},
   "outputs": [],
   "source": [
    "IMG_W = 128\n",
    "IMG_H = 128\n",
    "IMG_C = 3\n",
    "\n",
    "\n",
    "SHARDS = 1\n",
    "BATCH_SIZE = 128\n",
    "SUPER_BATCH = 8\n",
    "\n",
    "latent_dim = 256\n",
    "last_epoch = 0\n",
    "\n",
    "SAMPLES_PATH = \"samples_metu\"\n",
    "CHECKPOINT_PATH = \"saved_model_metu\"\n",
    "LOG_DIR = \"gan_logs/\" + datetime.now().strftime(\"%Y%m%d-%H%M%S\")\n",
    "GEN_CPT_NAME = f\"{CHECKPOINT_PATH}/gencp-{{epoch:02d}}.ckpt\"\n",
    "DIS_CPT_NAME = f\"{CHECKPOINT_PATH}/discp-{{epoch:02d}}.ckpt\""
   ]
  },
  {
   "cell_type": "code",
   "execution_count": null,
   "metadata": {},
   "outputs": [],
   "source": [
    "METU_RAW_PATH = '/qarr/studia/magister/datasets/METU/930k_logo_v3/'\n",
    "METU_DATASET_PATH = '/qarr/studia/magister/datasets/METU/resized_930k_logo'\n",
    "METU_DATASET_PATH = '/home/zenfur/magister/resized_930k_logo'\n",
    "EVAL_DATASET_PATH = \"/home/zenfur/magister/eval_images\""
   ]
  },
  {
   "cell_type": "code",
   "execution_count": null,
   "metadata": {},
   "outputs": [],
   "source": [
    "gpus = tf.config.experimental.list_physical_devices('GPU')\n",
    "if gpus:\n",
    "  try:\n",
    "    # Currently, memory growth needs to be the same across GPUs\n",
    "    for gpu in gpus:\n",
    "      tf.config.experimental.set_memory_growth(gpu, True)\n",
    "    logical_gpus = tf.config.experimental.list_logical_devices('GPU')\n",
    "    print(len(gpus), \"Physical GPUs,\", len(logical_gpus), \"Logical GPUs\")\n",
    "  except RuntimeError as e:\n",
    "    # Memory growth must be set before GPUs have been initialized\n",
    "    print(e)\n",
    "else:\n",
    "    print(\"No compatible GPUs found\")"
   ]
  },
  {
   "cell_type": "markdown",
   "metadata": {},
   "source": [
    "## Define METU dataset loading pipeline"
   ]
  },
  {
   "cell_type": "code",
   "execution_count": null,
   "metadata": {},
   "outputs": [],
   "source": [
    "# Static load into RAM\n",
    "# metuDataset = load_dataset(METU_DATASET_PATH, nexamples=1024*14)\n",
    "# metuDataset = metuDataset.shuffle(len(metuDataset)).cache().batch(batch_size)"
   ]
  },
  {
   "cell_type": "code",
   "execution_count": null,
   "metadata": {},
   "outputs": [],
   "source": [
    "imagesList = tf.io.matching_files(METU_DATASET_PATH + \"/*.jpg\")\n",
    "print(f\"Found {len(imagesList)} images in dataset\")"
   ]
  },
  {
   "cell_type": "code",
   "execution_count": null,
   "metadata": {},
   "outputs": [],
   "source": [
    "@tf.function\n",
    "def tf_read_image(path):\n",
    "    img = tf.io.read_file(path)\n",
    "    return tf.image.decode_jpeg(img, channels=3, dct_method='INTEGER_ACCURATE')\n",
    "\n",
    "\n",
    "@tf.function\n",
    "def tf_convert_and_normalize_img(img):\n",
    "    c = tf.constant(128.0, dtype=tf.dtypes.float32)\n",
    "    img = tf.cast(img, tf.dtypes.float32)\n",
    "    img = tf.math.subtract(img, c)\n",
    "    return tf.math.divide(img, c)\n",
    "\n"
   ]
  },
  {
   "cell_type": "code",
   "execution_count": null,
   "metadata": {},
   "outputs": [],
   "source": [
    "pathsDB = tf.data.Dataset.from_tensor_slices(imagesList)\n",
    "lenMetu = len(pathsDB)\n",
    "SHARD_IDX = 0\n",
    "metuDB = (pathsDB.shard(SHARDS, SHARD_IDX)\n",
    "                .shuffle(lenMetu//SHARDS + (lenMetu % SHARDS > SHARD_IDX))\n",
    "                #.repeat()\n",
    "                .map(tf_read_image, num_parallel_calls=tf.data.experimental.AUTOTUNE)\n",
    "                .batch(BATCH_SIZE*SUPER_BATCH)\n",
    "                .map(tf_convert_and_normalize_img, num_parallel_calls=tf.data.experimental.AUTOTUNE)\n",
    "                .prefetch(tf.data.experimental.AUTOTUNE)\n",
    "                .unbatch()\n",
    "                .batch(BATCH_SIZE)\n",
    "         )\n",
    "\n",
    "train_dataset = metuDB"
   ]
  },
  {
   "cell_type": "code",
   "execution_count": null,
   "metadata": {},
   "outputs": [],
   "source": [
    "plt.imshow(tf_read_image(imagesList.numpy()[10]).numpy())"
   ]
  },
  {
   "cell_type": "markdown",
   "metadata": {},
   "source": [
    "## Preparing the model"
   ]
  },
  {
   "cell_type": "code",
   "execution_count": null,
   "metadata": {},
   "outputs": [],
   "source": [
    "# Attempting to read epoch number from last checkpoint\n",
    "try:\n",
    "    checkpoints = os.listdir(CHECKPOINT_PATH)\n",
    "    last_epoch = np.max([int(re.search(r\"-[0-9]+\\.\", i)[0][1:-1]) for i in checkpoints if\n",
    "                             re.search(r\"-[0-9]+\\.\", i)])\n",
    "    print(\"Detected {} epoch as last checkpoint\".format(last_epoch))\n",
    "except (ValueError,  FileNotFoundError):\n",
    "    last_epoch = 0\n",
    "    print(\"Did not detect any checkpoints to continue from\")"
   ]
  },
  {
   "cell_type": "code",
   "execution_count": null,
   "metadata": {},
   "outputs": [],
   "source": [
    "# Initialize generator and disciminator models\n",
    "weight_init = tf.keras.initializers.RandomNormal(mean=0.0, stddev=0.02)\n",
    "d_model = build_discriminator_ref(weight_init, IMG_H=IMG_H, IMG_W=IMG_W, IMG_C=IMG_C)\n",
    "g_model = build_generator_ref(latent_dim, weight_init, IMG_H=IMG_H, IMG_W=IMG_W, IMG_C=IMG_C)"
   ]
  },
  {
   "cell_type": "code",
   "execution_count": null,
   "metadata": {},
   "outputs": [],
   "source": [
    "if last_epoch:\n",
    "    d_model.load_weights(DIS_CPT_NAME.format(epoch=last_epoch))\n",
    "    g_model.load_weights(GEN_CPT_NAME.format(epoch=last_epoch))\n",
    "    print(f\"Loading models from epoch {last_epoch}\")\n",
    "else:\n",
    "    print(\"No checkpoint to load from\")"
   ]
  },
  {
   "cell_type": "code",
   "execution_count": null,
   "metadata": {},
   "outputs": [],
   "source": [
    "gan = GAN_old(d_model, g_model, latent_dim)\n",
    "bce_loss_fn = tf.keras.losses.BinaryCrossentropy(from_logits=True, label_smoothing=0.1)\n",
    "d_optimizer = tf.keras.optimizers.Adam(learning_rate=0.0002, beta_1=0.5)\n",
    "g_optimizer = tf.keras.optimizers.Adam(learning_rate=0.0002, beta_1=0.5)\n",
    "gan.compile(d_optimizer, g_optimizer, bce_loss_fn)"
   ]
  },
  {
   "cell_type": "code",
   "execution_count": null,
   "metadata": {},
   "outputs": [],
   "source": [
    "tboard_callback = tf.keras.callbacks.TensorBoard(log_dir = LOG_DIR, histogram_freq=1)"
   ]
  },
  {
   "cell_type": "code",
   "execution_count": null,
   "metadata": {},
   "outputs": [],
   "source": [
    "# Epochs to train\n",
    "train_for = 2"
   ]
  },
  {
   "cell_type": "code",
   "execution_count": null,
   "metadata": {},
   "outputs": [],
   "source": [
    "n_samples = 25\n",
    "noise = np.random.normal(size=(n_samples, latent_dim))\n",
    "\n",
    "logging.getLogger('tensorflow').setLevel(logging.ERROR)\n",
    "try:\n",
    "    for epoch in range(last_epoch, last_epoch+train_for):\n",
    "        gan.fit(train_dataset, \n",
    "                initial_epoch=epoch, \n",
    "                epochs=epoch+1, \n",
    "                steps_per_epoch=lenMetu//SHARDS//BATCH_SIZE,\n",
    "                callbacks=[tboard_callback]\n",
    "               )\n",
    "        g_model.save_weights(checkpoint_path_g.format(epoch=epoch+1))\n",
    "        d_model.save_weights(checkpoint_path_d.format(epoch=epoch+1))\n",
    "\n",
    "        n_samples = 25\n",
    "        new_noise = np.random.normal(size=(n_samples, latent_dim))\n",
    "        new_noise[0:5] = noise[0:5]\n",
    "        examples = g_model.predict(new_noise)\n",
    "        #save_plot(examples, epoch, int(np.sqrt(n_samples)))\n",
    "        last_epoch += 1\n",
    "except KeyboardInterrupt:\n",
    "    print(\"Interrupted\")\n",
    "\n",
    "logging.getLogger('tensorflow').setLevel(logging.WARNING)"
   ]
  },
  {
   "cell_type": "code",
   "execution_count": null,
   "metadata": {},
   "outputs": [],
   "source": [
    "tf.keras.backend.clear_session()"
   ]
  },
  {
   "cell_type": "markdown",
   "metadata": {},
   "source": [
    "## Evaluating the trained model\n",
    "\n",
    "Loading the evaluation dataset"
   ]
  },
  {
   "cell_type": "code",
   "execution_count": null,
   "metadata": {},
   "outputs": [],
   "source": [
    "imagesList = tf.io.matching_files(EVAL_DATASET_PATH + \"/*.jpg\")\n",
    "\n",
    "@tf.function\n",
    "def tf_get_filename(path):\n",
    "    return tf.strings.regex_replace(path, \"[^/]*/\", \"\")\n",
    "\n",
    "\n",
    "#@tf.function\n",
    "def tf_read_eval_image(path):\n",
    "    # Retrieving the group number from file name\n",
    "    img = tf.io.read_file(path)\n",
    "    filename = tf_get_filename(path)\n",
    "    group_number = tf.strings.to_number(\n",
    "        tf.strings.regex_replace(filename, \"-.*$\", \"\"), \n",
    "        out_type=tf.dtypes.int32\n",
    "    )\n",
    "    return (tf.image.decode_jpeg(img, channels=3, dct_method='INTEGER_ACCURATE'), group_number)\n",
    "\n",
    "\n",
    "#@tf.function\n",
    "def tf_convert_and_normalize_img(img):\n",
    "    c = tf.constant(128.0, dtype=tf.dtypes.float32)\n",
    "    img = tf.cast(img, tf.dtypes.float32)\n",
    "    img = tf.math.subtract(img, c)\n",
    "    return tf.math.divide(img, c)\n",
    "\n",
    "\n",
    "evalpathsDB = tf.data.Dataset.from_tensor_slices(imagesList)\n",
    "DBlen = len(evalpathsDB)\n",
    "convert_handler = lambda x,y:(tf_convert_and_normalize_img(x), y)\n",
    "evalDB = (      evalpathsDB.map(tf_read_eval_image, num_parallel_calls=tf.data.experimental.AUTOTUNE)\n",
    "                 .batch(32)\n",
    "                 .map(convert_handler, num_parallel_calls=tf.data.experimental.AUTOTUNE)\n",
    "                 .unbatch()\n",
    "                 .cache()\n",
    ")\n"
   ]
  },
  {
   "cell_type": "code",
   "execution_count": null,
   "metadata": {},
   "outputs": [],
   "source": [
    "def generate_transformed_dataset(paths_database, mapping_function, batch=32):\n",
    "    return (paths_database.map(tf_read_image, num_parallel_calls=tf.data.experimental.AUTOTUNE)\n",
    "                    .batch(batch, drop_remainder=False)\n",
    "                    .map(tf_convert_and_normalize_img, num_parallel_calls=tf.data.experimental.AUTOTUNE)\n",
    "                    .map(mapping_function, num_parallel_calls=tf.data.experimental.AUTOTUNE)\n",
    "                    #.unbatch()\n",
    "             )"
   ]
  },
  {
   "cell_type": "code",
   "execution_count": null,
   "metadata": {},
   "outputs": [],
   "source": [
    "@tf.autograph.experimental.do_not_convert\n",
    "def dummy_mapping_function(x):\n",
    "    return tf.random.normal((tf.shape(x)[0], 128))"
   ]
  },
  {
   "cell_type": "code",
   "execution_count": null,
   "metadata": {},
   "outputs": [],
   "source": [
    "def tf_db_to_array(tfdb, tfdb_size):\n",
    "    shape = tf.shape(next(iter(tfdb.take(1))))\n",
    "    batch_size = shape[0]\n",
    "    my_array = np.empty(tuple([tfdb_size, *shape[1:]]))\n",
    "    for i, el in enumerate(progressBar(iter(tfdb), iterable_size = len(tfdb))): \n",
    "        t = i*batch_size\n",
    "        my_array[t:t+el.shape[0], :] = el\n",
    "    return my_array\n"
   ]
  },
  {
   "cell_type": "code",
   "execution_count": null,
   "metadata": {},
   "outputs": [],
   "source": [
    "evalArray = tf_db_to_array(generate_transformed_dataset(evalpathsDB, dummy_mapping_function), len(evalpathsDB))\n"
   ]
  },
  {
   "cell_type": "code",
   "execution_count": null,
   "metadata": {},
   "outputs": [],
   "source": [
    "trainArray = tf_db_to_array(generate_transformed_dataset(pathsDB, dummy_mapping_function), len(pathsDB))"
   ]
  },
  {
   "cell_type": "code",
   "execution_count": null,
   "metadata": {},
   "outputs": [],
   "source": []
  },
  {
   "cell_type": "code",
   "execution_count": null,
   "metadata": {},
   "outputs": [],
   "source": []
  },
  {
   "cell_type": "code",
   "execution_count": null,
   "metadata": {},
   "outputs": [],
   "source": []
  },
  {
   "cell_type": "code",
   "execution_count": null,
   "metadata": {},
   "outputs": [],
   "source": []
  },
  {
   "cell_type": "code",
   "execution_count": null,
   "metadata": {},
   "outputs": [],
   "source": []
  },
  {
   "cell_type": "code",
   "execution_count": null,
   "metadata": {},
   "outputs": [],
   "source": []
  },
  {
   "cell_type": "code",
   "execution_count": null,
   "metadata": {},
   "outputs": [],
   "source": []
  },
  {
   "cell_type": "code",
   "execution_count": null,
   "metadata": {},
   "outputs": [],
   "source": [
    "trainArray=evalArray"
   ]
  },
  {
   "cell_type": "code",
   "execution_count": null,
   "metadata": {},
   "outputs": [],
   "source": [
    "groupID = [j.numpy() for i,j in iter(evalDB)]\n",
    "groups = {i:get_index_positions(groupID, i) for i in np.unique(groupID)}"
   ]
  },
  {
   "cell_type": "code",
   "execution_count": null,
   "metadata": {},
   "outputs": [],
   "source": [
    "groups"
   ]
  },
  {
   "cell_type": "code",
   "execution_count": null,
   "metadata": {},
   "outputs": [],
   "source": [
    "result = calculate_rank(trainArray, evalArray, groups, euclidean_sq)"
   ]
  },
  {
   "cell_type": "code",
   "execution_count": null,
   "metadata": {},
   "outputs": [],
   "source": [
    "result = [result[i] for i in range(len(result))]"
   ]
  },
  {
   "cell_type": "code",
   "execution_count": null,
   "metadata": {},
   "outputs": [],
   "source": [
    "result"
   ]
  },
  {
   "cell_type": "code",
   "execution_count": null,
   "metadata": {},
   "outputs": [],
   "source": [
    "ranks = [np.mean(x) for x in result if x is not []]"
   ]
  },
  {
   "cell_type": "code",
   "execution_count": null,
   "metadata": {},
   "outputs": [],
   "source": [
    "ranks_normalised = [(np.mean(x)-len(x)*(len(x)+1)/2)/len(trainArray) for x in result if x is not []]"
   ]
  },
  {
   "cell_type": "code",
   "execution_count": null,
   "metadata": {},
   "outputs": [],
   "source": [
    "ranks"
   ]
  },
  {
   "cell_type": "code",
   "execution_count": null,
   "metadata": {},
   "outputs": [],
   "source": [
    "ranks_normalised"
   ]
  },
  {
   "cell_type": "code",
   "execution_count": null,
   "metadata": {},
   "outputs": [],
   "source": [
    "np.mean(ranks_normalised)"
   ]
  },
  {
   "cell_type": "code",
   "execution_count": null,
   "metadata": {},
   "outputs": [],
   "source": [
    "2*np.mean(ranks)"
   ]
  },
  {
   "cell_type": "code",
   "execution_count": null,
   "metadata": {},
   "outputs": [],
   "source": []
  }
 ],
 "metadata": {
  "kernelspec": {
   "display_name": "Python 3",
   "language": "python",
   "name": "python3"
  },
  "language_info": {
   "codemirror_mode": {
    "name": "ipython",
    "version": 3
   },
   "file_extension": ".py",
   "mimetype": "text/x-python",
   "name": "python",
   "nbconvert_exporter": "python",
   "pygments_lexer": "ipython3",
   "version": "3.9.1"
  }
 },
 "nbformat": 4,
 "nbformat_minor": 2
}
